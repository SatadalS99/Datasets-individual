{
 "cells": [
  {
   "cell_type": "markdown",
   "id": "d5eb2ad3",
   "metadata": {},
   "source": [
    "# Gold price prediction"
   ]
  },
  {
   "cell_type": "code",
   "execution_count": 21,
   "id": "14f92aa4",
   "metadata": {},
   "outputs": [],
   "source": [
    "#importing the libraries\n",
    "import numpy as np\n",
    "import pandas as pd\n",
    "import matplotlib.pyplot as plt\n",
    "import seaborn as sns\n",
    "from sklearn.model_selection import train_test_split\n",
    "from sklearn.ensemble import RandomForestRegressor\n",
    "from sklearn import metrics"
   ]
  },
  {
   "cell_type": "markdown",
   "id": "5077d956",
   "metadata": {},
   "source": [
    "## Data Processing"
   ]
  },
  {
   "cell_type": "code",
   "execution_count": 14,
   "id": "2ff47e5a",
   "metadata": {},
   "outputs": [
    {
     "data": {
      "text/html": [
       "<div>\n",
       "<style scoped>\n",
       "    .dataframe tbody tr th:only-of-type {\n",
       "        vertical-align: middle;\n",
       "    }\n",
       "\n",
       "    .dataframe tbody tr th {\n",
       "        vertical-align: top;\n",
       "    }\n",
       "\n",
       "    .dataframe thead th {\n",
       "        text-align: right;\n",
       "    }\n",
       "</style>\n",
       "<table border=\"1\" class=\"dataframe\">\n",
       "  <thead>\n",
       "    <tr style=\"text-align: right;\">\n",
       "      <th></th>\n",
       "      <th>Date</th>\n",
       "      <th>SPX</th>\n",
       "      <th>GLD</th>\n",
       "      <th>USO</th>\n",
       "      <th>SLV</th>\n",
       "      <th>EUR/USD</th>\n",
       "    </tr>\n",
       "  </thead>\n",
       "  <tbody>\n",
       "    <tr>\n",
       "      <th>0</th>\n",
       "      <td>1/2/2008</td>\n",
       "      <td>1447.160034</td>\n",
       "      <td>84.860001</td>\n",
       "      <td>78.470001</td>\n",
       "      <td>15.180000</td>\n",
       "      <td>1.471692</td>\n",
       "    </tr>\n",
       "    <tr>\n",
       "      <th>1</th>\n",
       "      <td>1/3/2008</td>\n",
       "      <td>1447.160034</td>\n",
       "      <td>85.570000</td>\n",
       "      <td>78.370003</td>\n",
       "      <td>15.285000</td>\n",
       "      <td>1.474491</td>\n",
       "    </tr>\n",
       "    <tr>\n",
       "      <th>2</th>\n",
       "      <td>1/4/2008</td>\n",
       "      <td>1411.630005</td>\n",
       "      <td>85.129997</td>\n",
       "      <td>77.309998</td>\n",
       "      <td>15.167000</td>\n",
       "      <td>1.475492</td>\n",
       "    </tr>\n",
       "    <tr>\n",
       "      <th>3</th>\n",
       "      <td>1/7/2008</td>\n",
       "      <td>1416.180054</td>\n",
       "      <td>84.769997</td>\n",
       "      <td>75.500000</td>\n",
       "      <td>15.053000</td>\n",
       "      <td>1.468299</td>\n",
       "    </tr>\n",
       "    <tr>\n",
       "      <th>4</th>\n",
       "      <td>1/8/2008</td>\n",
       "      <td>1390.189941</td>\n",
       "      <td>86.779999</td>\n",
       "      <td>76.059998</td>\n",
       "      <td>15.590000</td>\n",
       "      <td>1.557099</td>\n",
       "    </tr>\n",
       "    <tr>\n",
       "      <th>5</th>\n",
       "      <td>1/9/2008</td>\n",
       "      <td>1409.130005</td>\n",
       "      <td>86.550003</td>\n",
       "      <td>75.250000</td>\n",
       "      <td>15.520000</td>\n",
       "      <td>1.466405</td>\n",
       "    </tr>\n",
       "    <tr>\n",
       "      <th>6</th>\n",
       "      <td>1/10/2008</td>\n",
       "      <td>1420.329956</td>\n",
       "      <td>88.250000</td>\n",
       "      <td>74.019997</td>\n",
       "      <td>16.061001</td>\n",
       "      <td>1.480100</td>\n",
       "    </tr>\n",
       "    <tr>\n",
       "      <th>7</th>\n",
       "      <td>1/11/2008</td>\n",
       "      <td>1401.020020</td>\n",
       "      <td>88.580002</td>\n",
       "      <td>73.089996</td>\n",
       "      <td>16.077000</td>\n",
       "      <td>1.479006</td>\n",
       "    </tr>\n",
       "    <tr>\n",
       "      <th>8</th>\n",
       "      <td>1/14/2008</td>\n",
       "      <td>1416.250000</td>\n",
       "      <td>89.540001</td>\n",
       "      <td>74.250000</td>\n",
       "      <td>16.280001</td>\n",
       "      <td>1.486900</td>\n",
       "    </tr>\n",
       "    <tr>\n",
       "      <th>9</th>\n",
       "      <td>1/15/2008</td>\n",
       "      <td>1380.949951</td>\n",
       "      <td>87.989998</td>\n",
       "      <td>72.779999</td>\n",
       "      <td>15.834000</td>\n",
       "      <td>1.480210</td>\n",
       "    </tr>\n",
       "  </tbody>\n",
       "</table>\n",
       "</div>"
      ],
      "text/plain": [
       "        Date          SPX        GLD        USO        SLV   EUR/USD\n",
       "0   1/2/2008  1447.160034  84.860001  78.470001  15.180000  1.471692\n",
       "1   1/3/2008  1447.160034  85.570000  78.370003  15.285000  1.474491\n",
       "2   1/4/2008  1411.630005  85.129997  77.309998  15.167000  1.475492\n",
       "3   1/7/2008  1416.180054  84.769997  75.500000  15.053000  1.468299\n",
       "4   1/8/2008  1390.189941  86.779999  76.059998  15.590000  1.557099\n",
       "5   1/9/2008  1409.130005  86.550003  75.250000  15.520000  1.466405\n",
       "6  1/10/2008  1420.329956  88.250000  74.019997  16.061001  1.480100\n",
       "7  1/11/2008  1401.020020  88.580002  73.089996  16.077000  1.479006\n",
       "8  1/14/2008  1416.250000  89.540001  74.250000  16.280001  1.486900\n",
       "9  1/15/2008  1380.949951  87.989998  72.779999  15.834000  1.480210"
      ]
     },
     "execution_count": 14,
     "metadata": {},
     "output_type": "execute_result"
    }
   ],
   "source": [
    "gold_df = pd.read_csv(r'C:\\Users\\satad\\Documents\\Data sets\\Gold price prediction\\archive\\Gold price prediction.csv')\n",
    "gold_df.head(10)"
   ]
  },
  {
   "cell_type": "code",
   "execution_count": 15,
   "id": "3515111a",
   "metadata": {},
   "outputs": [
    {
     "data": {
      "text/plain": [
       "(2290, 6)"
      ]
     },
     "execution_count": 15,
     "metadata": {},
     "output_type": "execute_result"
    }
   ],
   "source": [
    "#shape of the dataset\n",
    "gold_df.shape"
   ]
  },
  {
   "cell_type": "code",
   "execution_count": 17,
   "id": "d65a006b",
   "metadata": {},
   "outputs": [
    {
     "name": "stdout",
     "output_type": "stream",
     "text": [
      "<class 'pandas.core.frame.DataFrame'>\n",
      "RangeIndex: 2290 entries, 0 to 2289\n",
      "Data columns (total 6 columns):\n",
      " #   Column   Non-Null Count  Dtype  \n",
      "---  ------   --------------  -----  \n",
      " 0   Date     2290 non-null   object \n",
      " 1   SPX      2290 non-null   float64\n",
      " 2   GLD      2290 non-null   float64\n",
      " 3   USO      2290 non-null   float64\n",
      " 4   SLV      2290 non-null   float64\n",
      " 5   EUR/USD  2290 non-null   float64\n",
      "dtypes: float64(5), object(1)\n",
      "memory usage: 107.5+ KB\n"
     ]
    }
   ],
   "source": [
    "#data type information\n",
    "gold_df.info()"
   ]
  },
  {
   "cell_type": "code",
   "execution_count": 18,
   "id": "bd588150",
   "metadata": {},
   "outputs": [
    {
     "data": {
      "text/plain": [
       "Date       0\n",
       "SPX        0\n",
       "GLD        0\n",
       "USO        0\n",
       "SLV        0\n",
       "EUR/USD    0\n",
       "dtype: int64"
      ]
     },
     "execution_count": 18,
     "metadata": {},
     "output_type": "execute_result"
    }
   ],
   "source": [
    "#finding null values\n",
    "gold_df.isnull().sum()"
   ]
  },
  {
   "cell_type": "code",
   "execution_count": 19,
   "id": "1f4205b0",
   "metadata": {},
   "outputs": [
    {
     "data": {
      "text/html": [
       "<div>\n",
       "<style scoped>\n",
       "    .dataframe tbody tr th:only-of-type {\n",
       "        vertical-align: middle;\n",
       "    }\n",
       "\n",
       "    .dataframe tbody tr th {\n",
       "        vertical-align: top;\n",
       "    }\n",
       "\n",
       "    .dataframe thead th {\n",
       "        text-align: right;\n",
       "    }\n",
       "</style>\n",
       "<table border=\"1\" class=\"dataframe\">\n",
       "  <thead>\n",
       "    <tr style=\"text-align: right;\">\n",
       "      <th></th>\n",
       "      <th>SPX</th>\n",
       "      <th>GLD</th>\n",
       "      <th>USO</th>\n",
       "      <th>SLV</th>\n",
       "      <th>EUR/USD</th>\n",
       "    </tr>\n",
       "  </thead>\n",
       "  <tbody>\n",
       "    <tr>\n",
       "      <th>count</th>\n",
       "      <td>2290.000000</td>\n",
       "      <td>2290.000000</td>\n",
       "      <td>2290.000000</td>\n",
       "      <td>2290.000000</td>\n",
       "      <td>2290.000000</td>\n",
       "    </tr>\n",
       "    <tr>\n",
       "      <th>mean</th>\n",
       "      <td>1654.315776</td>\n",
       "      <td>122.732875</td>\n",
       "      <td>31.842221</td>\n",
       "      <td>20.084997</td>\n",
       "      <td>1.283653</td>\n",
       "    </tr>\n",
       "    <tr>\n",
       "      <th>std</th>\n",
       "      <td>519.111540</td>\n",
       "      <td>23.283346</td>\n",
       "      <td>19.523517</td>\n",
       "      <td>7.092566</td>\n",
       "      <td>0.131547</td>\n",
       "    </tr>\n",
       "    <tr>\n",
       "      <th>min</th>\n",
       "      <td>676.530029</td>\n",
       "      <td>70.000000</td>\n",
       "      <td>7.960000</td>\n",
       "      <td>8.850000</td>\n",
       "      <td>1.039047</td>\n",
       "    </tr>\n",
       "    <tr>\n",
       "      <th>25%</th>\n",
       "      <td>1239.874969</td>\n",
       "      <td>109.725000</td>\n",
       "      <td>14.380000</td>\n",
       "      <td>15.570000</td>\n",
       "      <td>1.171313</td>\n",
       "    </tr>\n",
       "    <tr>\n",
       "      <th>50%</th>\n",
       "      <td>1551.434998</td>\n",
       "      <td>120.580002</td>\n",
       "      <td>33.869999</td>\n",
       "      <td>17.268500</td>\n",
       "      <td>1.303297</td>\n",
       "    </tr>\n",
       "    <tr>\n",
       "      <th>75%</th>\n",
       "      <td>2073.010070</td>\n",
       "      <td>132.840004</td>\n",
       "      <td>37.827501</td>\n",
       "      <td>22.882500</td>\n",
       "      <td>1.369971</td>\n",
       "    </tr>\n",
       "    <tr>\n",
       "      <th>max</th>\n",
       "      <td>2872.870117</td>\n",
       "      <td>184.589996</td>\n",
       "      <td>117.480003</td>\n",
       "      <td>47.259998</td>\n",
       "      <td>1.598798</td>\n",
       "    </tr>\n",
       "  </tbody>\n",
       "</table>\n",
       "</div>"
      ],
      "text/plain": [
       "               SPX          GLD          USO          SLV      EUR/USD\n",
       "count  2290.000000  2290.000000  2290.000000  2290.000000  2290.000000\n",
       "mean   1654.315776   122.732875    31.842221    20.084997     1.283653\n",
       "std     519.111540    23.283346    19.523517     7.092566     0.131547\n",
       "min     676.530029    70.000000     7.960000     8.850000     1.039047\n",
       "25%    1239.874969   109.725000    14.380000    15.570000     1.171313\n",
       "50%    1551.434998   120.580002    33.869999    17.268500     1.303297\n",
       "75%    2073.010070   132.840004    37.827501    22.882500     1.369971\n",
       "max    2872.870117   184.589996   117.480003    47.259998     1.598798"
      ]
     },
     "execution_count": 19,
     "metadata": {},
     "output_type": "execute_result"
    }
   ],
   "source": [
    "#statistical measures of the data\n",
    "gold_df.describe()"
   ]
  },
  {
   "cell_type": "code",
   "execution_count": 30,
   "id": "126fab1e",
   "metadata": {},
   "outputs": [],
   "source": [
    "correlation = gold_df.corr()"
   ]
  },
  {
   "cell_type": "code",
   "execution_count": 44,
   "id": "595bd805",
   "metadata": {},
   "outputs": [
    {
     "data": {
      "text/plain": [
       "<AxesSubplot:>"
      ]
     },
     "execution_count": 44,
     "metadata": {},
     "output_type": "execute_result"
    },
    {
     "data": {
      "image/png": "[encoded data removed]",
      "text/plain": [
       "<Figure size 576x576 with 2 Axes>"
      ]
     },
     "metadata": {
      "needs_background": "light"
     },
     "output_type": "display_data"
    }
   ],
   "source": [
    "#constructing a heatmap to understand the correlation\n",
    "plt.figure(figsize = (8,8))\n",
    "sns.heatmap(correlation, cbar=True, square=True, fmt='.1f', annot=True, annot_kws={'size':8}, cmap='Reds')"
   ]
  },
  {
   "cell_type": "code",
   "execution_count": 34,
   "id": "0121071f",
   "metadata": {},
   "outputs": [
    {
     "name": "stdout",
     "output_type": "stream",
     "text": [
      "SPX        0.049345\n",
      "GLD        1.000000\n",
      "USO       -0.186360\n",
      "SLV        0.866632\n",
      "EUR/USD   -0.024375\n",
      "Name: GLD, dtype: float64\n"
     ]
    }
   ],
   "source": [
    "#correlation values of gold\n",
    "print(correlation['GLD'])"
   ]
  },
  {
   "cell_type": "code",
   "execution_count": 48,
   "id": "66b92bb3",
   "metadata": {},
   "outputs": [
    {
     "name": "stderr",
     "output_type": "stream",
     "text": [
      "C:\\Users\\satad\\anaconda3\\lib\\site-packages\\seaborn\\distributions.py:2619: FutureWarning: `distplot` is a deprecated function and will be removed in a future version. Please adapt your code to use either `displot` (a figure-level function with similar flexibility) or `histplot` (an axes-level function for histograms).\n",
      "  warnings.warn(msg, FutureWarning)\n"
     ]
    },
    {
     "data": {
      "text/plain": [
       "<AxesSubplot:xlabel='GLD', ylabel='Density'>"
      ]
     },
     "execution_count": 48,
     "metadata": {},
     "output_type": "execute_result"
    },
    {
     "data": {
      "image/png": "[encoded data removed]",
      "text/plain": [
       "<Figure size 432x288 with 1 Axes>"
      ]
     },
     "metadata": {
      "needs_background": "light"
     },
     "output_type": "display_data"
    }
   ],
   "source": [
    "#cheking the distribution of the gold price\n",
    "sns.distplot(gold_df['GLD'], color='Blue')"
   ]
  },
  {
   "cell_type": "markdown",
   "id": "cb763151",
   "metadata": {},
   "source": [
    "Splitting the Feature and Target"
   ]
  },
  {
   "cell_type": "code",
   "execution_count": 49,
   "id": "54a3691e",
   "metadata": {},
   "outputs": [],
   "source": [
    "X = gold_df.drop(['Date', 'GLD'], axis=1)\n",
    "Y = gold_df['GLD']"
   ]
  },
  {
   "cell_type": "code",
   "execution_count": 50,
   "id": "faf9f815",
   "metadata": {},
   "outputs": [
    {
     "name": "stdout",
     "output_type": "stream",
     "text": [
      "              SPX        USO      SLV   EUR/USD\n",
      "0     1447.160034  78.470001  15.1800  1.471692\n",
      "1     1447.160034  78.370003  15.2850  1.474491\n",
      "2     1411.630005  77.309998  15.1670  1.475492\n",
      "3     1416.180054  75.500000  15.0530  1.468299\n",
      "4     1390.189941  76.059998  15.5900  1.557099\n",
      "...           ...        ...      ...       ...\n",
      "2285  2671.919922  14.060000  15.5100  1.186789\n",
      "2286  2697.790039  14.370000  15.5300  1.184722\n",
      "2287  2723.070068  14.410000  15.7400  1.191753\n",
      "2288  2730.129883  14.380000  15.5600  1.193118\n",
      "2289  2725.780029  14.405800  15.4542  1.182033\n",
      "\n",
      "[2290 rows x 4 columns]\n"
     ]
    }
   ],
   "source": [
    "print(X)"
   ]
  },
  {
   "cell_type": "code",
   "execution_count": 51,
   "id": "3b432e02",
   "metadata": {},
   "outputs": [
    {
     "name": "stdout",
     "output_type": "stream",
     "text": [
      "0        84.860001\n",
      "1        85.570000\n",
      "2        85.129997\n",
      "3        84.769997\n",
      "4        86.779999\n",
      "           ...    \n",
      "2285    124.589996\n",
      "2286    124.330002\n",
      "2287    125.180000\n",
      "2288    124.489998\n",
      "2289    122.543800\n",
      "Name: GLD, Length: 2290, dtype: float64\n"
     ]
    }
   ],
   "source": [
    "print(Y)"
   ]
  },
  {
   "cell_type": "code",
   "execution_count": 72,
   "id": "6a5532a7",
   "metadata": {},
   "outputs": [],
   "source": [
    "X_train, X_test, Y_train, Y_test = train_test_split(X,Y, test_size =0.2, random_state=42)"
   ]
  },
  {
   "cell_type": "markdown",
   "id": "d6dc5d47",
   "metadata": {},
   "source": [
    "Model training: Random Forest Regressor"
   ]
  },
  {
   "cell_type": "code",
   "execution_count": 73,
   "id": "b134e100",
   "metadata": {},
   "outputs": [],
   "source": [
    "regressor = RandomForestRegressor(n_estimators=100)"
   ]
  },
  {
   "cell_type": "code",
   "execution_count": 74,
   "id": "e50154a8",
   "metadata": {},
   "outputs": [
    {
     "data": {
      "text/plain": [
       "RandomForestRegressor()"
      ]
     },
     "execution_count": 74,
     "metadata": {},
     "output_type": "execute_result"
    }
   ],
   "source": [
    "#training the model\n",
    "regressor.fit(X_train, Y_train)"
   ]
  },
  {
   "cell_type": "code",
   "execution_count": 75,
   "id": "0efd050d",
   "metadata": {},
   "outputs": [],
   "source": [
    "#prediction on the test data\n",
    "test_data_prediction = regressor.predict(X_test)"
   ]
  },
  {
   "cell_type": "code",
   "execution_count": 76,
   "id": "d1ad85b6",
   "metadata": {},
   "outputs": [
    {
     "name": "stdout",
     "output_type": "stream",
     "text": [
      "[122.52739929 130.89600216 127.66739939  96.60719716 118.57030075\n",
      " 114.49109896 124.79520153 117.81269948 108.07400106  98.17349973\n",
      "  95.51739927 167.75269872 149.27590037 116.25010037 170.72060093\n",
      "  85.14389999 123.05449883 109.11159723 113.19420041 131.51480353\n",
      " 124.28079897 113.40880079 116.108301   108.87129968 108.68300157\n",
      " 125.75239916 118.63359973 112.30599916 113.28520167 125.64669953\n",
      " 146.27440201  89.46450005 167.68809966 113.9281995  108.32250065\n",
      " 120.18450098 141.15919911 161.16210136 173.96239832 153.0164014\n",
      " 118.86510083 113.52160084 121.44219916 113.65609917 122.14403808\n",
      " 108.10450099  88.403099   114.36249911 129.79140173 117.73960079\n",
      " 103.35620063 129.79350186 107.27849843 160.43650379 131.89790025\n",
      " 118.51389986 147.18130028 134.52170293  95.87640101 124.75730165\n",
      " 115.00839859  86.08420078 104.28399912 114.02380065  84.32449926\n",
      " 122.27809999 116.47229936 113.78020196 164.33080288  92.39620007\n",
      "  80.18060115 161.12409996 158.33080239 106.71280034 148.68320128\n",
      " 109.55169755 122.09710068 128.6449011  113.18029863 120.11110075\n",
      " 135.35959788 107.27290122  93.79960105  92.64289882 111.42940056\n",
      " 118.48900009 108.45359908 112.05639961 167.63449867 161.00849874\n",
      " 107.6343985  125.35349995 107.98900044 115.56170217 126.66519818\n",
      " 108.19969939 161.13290277  84.70669859 131.32990407 114.57089992\n",
      " 154.96219962 110.39329877 113.72959992 107.56799993 138.42680007\n",
      "  88.46469946  92.54469888 175.75670112 118.866301   118.65460025\n",
      " 121.29600039 171.30239737 131.95530065 119.75290061 159.49270238\n",
      " 118.94649825 119.06909964 110.25309955 119.51699905 122.11049994\n",
      " 129.14279807 114.79029978  89.3553995  114.45140119 132.07219935\n",
      " 115.46950151 125.09999979  91.10370017 107.06520044 117.05240128\n",
      " 109.63179942 166.22710157  80.46740064 121.86379893  73.3825013\n",
      " 111.26419914 100.393701   124.14380022  75.89359937 124.67849937\n",
      " 119.7735005  105.02679966  90.730999   132.12909985 139.04110201\n",
      " 176.35789959 126.41359936 126.6106989  122.73799999  92.11589887\n",
      " 151.34380166 102.91219914 117.52079991 134.46739842 135.98209994\n",
      " 118.30750025 116.8639015  102.22599776 123.80089911  90.08129943\n",
      " 108.15459947 117.50670075 168.59700013 117.15060053 117.62699976\n",
      " 155.27370148 111.22570044  87.29989885 116.46550126 124.29859948\n",
      " 120.64510221 118.23150022  96.34819872 109.40969991 114.96759934\n",
      " 127.75970092 155.95340109 107.97400101 123.83899887 139.15520255\n",
      "  90.87350021 118.14760132 130.60670038 114.06739946 108.08629934\n",
      " 119.05660026 127.93919934 125.56840034 145.23720092 112.22950053\n",
      "  93.70799993 115.06209988 125.59540035 120.68100182 122.13340068\n",
      "  92.63160083 120.99919855  93.30230051 118.91940035 124.37800036\n",
      " 121.9611004  131.24910003 124.37059948 114.81930155 127.44440089\n",
      " 113.42210062 165.46579967 122.29559774 119.67880201 114.09120037\n",
      " 120.05799987 120.20879933 105.67390131 116.54860014 125.69329917\n",
      " 172.05159736  85.55110004 134.16549859 127.7826988   74.14830059\n",
      " 119.16239966  88.8042996  161.65930251  92.19080002 158.50020183\n",
      " 102.38809848 102.99709953 102.70439901 118.60823708 165.54200148\n",
      " 120.19600093 135.48889939  96.53849811 113.21949927 132.4857008\n",
      " 145.92720077 125.63849998 101.60409994 125.3573006  160.2725015\n",
      " 119.77590144 126.4331013  127.58100154 115.39539951 157.33380202\n",
      " 128.82339965 114.34619933 176.92899901 119.82180194 119.00460106\n",
      " 102.81419854 160.90439983 114.65100099 118.49029955 125.59069904\n",
      " 116.91200088 114.65659932  90.87069972 101.33880019 131.884601\n",
      " 118.83340245 166.45869882 107.81080116  86.24000073  91.74209956\n",
      " 155.77259953 155.7655996  153.22669949  72.98179962 120.7719\n",
      " 117.17620036 157.26520066 135.58149939 111.66999999 114.04530002\n",
      " 160.67110167 125.58249964 119.68920085 117.7204     158.56290216\n",
      " 104.02769942  89.36309954  83.77619946  90.31899977 115.30649993\n",
      " 113.4904998  119.53510154 119.53870098  79.19779996  90.65230062\n",
      " 153.61950296 119.5221006  132.02359999 125.55460043 113.76210097\n",
      "  82.70430044 118.3229986   89.8069003  118.08279989 163.05560248\n",
      " 121.37940058 110.42649974 125.28509846 114.66540038 135.7234002\n",
      "  80.22280131 163.87789945 132.90440095 163.60560014 127.71459911\n",
      "  91.52019882 108.34719941 114.35879913 127.80550046 119.25620205\n",
      "  92.49689929 132.17999915 162.51400169  72.41470157 112.1272002\n",
      " 108.57959984 113.62949779 120.2350012  111.76529981 120.56419977\n",
      " 118.34980203 126.29430098 125.78090131 109.28009976 167.05329987\n",
      " 165.24939905 112.49399936 169.40639734 111.96949997 161.31970229\n",
      " 127.51979868 167.36349853 135.10980211 109.18509878 167.27859949\n",
      " 116.67470175  72.74940086 113.44899994  93.36339967  87.81479991\n",
      " 104.12749867 125.77710025 123.40079754 166.22049903 121.14380047\n",
      "  87.14009855 131.74449806 121.70730023 107.59349943 168.31999992\n",
      " 126.09509787 127.04510113 113.38820091 135.27510105 125.17420116\n",
      " 144.0236993  123.31299904 118.33020025 120.90370011 166.83790034\n",
      "  71.81830063 162.84969917 167.03049886 118.36770027 103.69739793\n",
      " 128.0492994  154.14610019 171.99030015 134.92419791 126.91499988\n",
      " 124.49300073 152.36179727  88.09339974 130.8588015  110.72380089\n",
      " 164.90290062 156.6414992  166.06530072 121.62039988  90.00150058\n",
      " 132.46440165  99.81289961 127.50079867 127.90109806 108.48969947\n",
      "  90.922099   153.17650126  95.11339857  87.86879919 124.91099946\n",
      "  87.00049794  94.67740123 113.53779962 156.40160384 147.38960086\n",
      " 105.21600011 166.27689747 111.15690019 128.28049972  90.64469981\n",
      " 109.38689956  77.2828007  110.40789978 163.87959894 153.50889871\n",
      " 152.12190217 161.70140015  92.21769869 117.93890187  93.76070137\n",
      " 129.93330085 117.24560026 117.37300025 124.06910035 120.71720005\n",
      "  97.87789902 168.10060044 146.22920087 124.49129888 169.02669845\n",
      "  84.19979984 166.61689789 130.56690149 119.89450197  88.45000009\n",
      " 119.9293987   83.68049867 118.5954008  113.65839911 116.61089947\n",
      " 154.8230978  135.01940379 118.02270139 118.99049857 123.18369871\n",
      " 115.28280095 118.50660015 122.06960066 146.79200042 151.69480104\n",
      " 167.91660056  98.15259931 159.78729965  93.63950045 142.66269919\n",
      " 121.23370064  83.98399863 106.27460005 123.73379981 169.40979683\n",
      "  93.4827988   96.89020079 153.54850011]\n"
     ]
    }
   ],
   "source": [
    "print(test_data_prediction)"
   ]
  },
  {
   "cell_type": "code",
   "execution_count": 77,
   "id": "dfe8f0fc",
   "metadata": {},
   "outputs": [
    {
     "name": "stdout",
     "output_type": "stream",
     "text": [
      "R squarred error: 0.990412567325633\n"
     ]
    }
   ],
   "source": [
    "#R squarred error\n",
    "error_score = metrics.r2_score(Y_test, test_data_prediction)\n",
    "print(\"R squarred error:\", error_score)"
   ]
  },
  {
   "cell_type": "code",
   "execution_count": 78,
   "id": "521d8442",
   "metadata": {},
   "outputs": [],
   "source": [
    "Y_test=list(Y_test)"
   ]
  },
  {
   "cell_type": "code",
   "execution_count": 79,
   "id": "b965db20",
   "metadata": {},
   "outputs": [
    {
     "data": {
      "image/png": "[encoded data removed]",
      "text/plain": [
       "<Figure size 432x288 with 1 Axes>"
      ]
     },
     "metadata": {
      "needs_background": "light"
     },
     "output_type": "display_data"
    }
   ],
   "source": [
    "#plotting the difference between actual and predicted value\n",
    "plt.plot(Y_test, color='Red', label ='Acual Value')\n",
    "plt.plot(test_data_prediction, color='blue', label='Predicted Value')\n",
    "plt.title('Actual price Vs Predicted price')\n",
    "plt.xlabel('Number of values')\n",
    "plt.ylabel('GLD Price')\n",
    "plt.legend()\n",
    "plt.show()"
   ]
  },
  {
   "cell_type": "code",
   "execution_count": null,
   "id": "ec3c1c7f",
   "metadata": {},
   "outputs": [],
   "source": []
  }
 ],
 "metadata": {
  "kernelspec": {
   "display_name": "Python 3 (ipykernel)",
   "language": "python",
   "name": "python3"
  },
  "language_info": {
   "codemirror_mode": {
    "name": "ipython",
    "version": 3
   },
   "file_extension": ".py",
   "mimetype": "text/x-python",
   "name": "python",
   "nbconvert_exporter": "python",
   "pygments_lexer": "ipython3",
   "version": "3.9.12"
  }
 },
 "nbformat": 4,
 "nbformat_minor": 5
}
